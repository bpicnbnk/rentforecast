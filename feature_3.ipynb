{
 "cells": [
  {
   "cell_type": "code",
   "execution_count": 34,
   "metadata": {},
   "outputs": [],
   "source": [
    "import pandas as pd\n",
    "import numpy as np\n",
    "import lightgbm as lgb\n",
    "import matplotlib.pyplot as plt\n",
    "import seaborn as sns\n",
    "from sklearn.model_selection import KFold\n",
    "from sklearn.metrics import r2_score"
   ]
  },
  {
   "cell_type": "code",
   "execution_count": 35,
   "metadata": {},
   "outputs": [],
   "source": [
    "def parseData(df):\n",
    "    \"\"\"\n",
    "    处理数据\n",
    "    \"\"\"\n",
    "#     '--'转为'未知方式'\n",
    "    df['rentType'][df['rentType']=='--'] = '未知方式'\n",
    "    \n",
    "    # 转换object类型数据\n",
    "    columns = ['rentType', 'houseFloor', 'houseToward', 'houseDecoration', 'communityName', 'region', 'plate']\n",
    "    for col in columns:\n",
    "        df[col] = df[col].astype('category')\n",
    "        \n",
    "    # 将buildYear列转换为整型数据\n",
    "#     使用众数1994填充\n",
    "    df['buildYear'] = np.where(df['buildYear'] == '暂无信息', 1994, df['buildYear'])\n",
    "    df['buildYear'] = df['buildYear'].astype('int')\n",
    "    \n",
    "#     处理缺失值\n",
    "    # 处理pv和uv的空值,缺失值用平均值代替\n",
    "    df['pv'].fillna(df['pv'].mean(),inplace=True)\n",
    "    df['uv'].fillna(df['uv'].mean(),inplace=True)\n",
    "#     df['pv'] = df['pv'].astype('int')\n",
    "#     df['uv'] = df['uv'].astype('int')\n",
    "    \n",
    "    # 去掉部分特征\n",
    "    df.drop('ID',axis=1, inplace=True)\n",
    "    df.drop('city',axis=1,inplace=True)\n",
    "    \n",
    "    \n",
    "    return df"
   ]
  },
  {
   "cell_type": "code",
   "execution_count": 36,
   "metadata": {},
   "outputs": [],
   "source": [
    "def washData(df_train, df_test):\n",
    "    \"\"\"\n",
    "    清洗数据\n",
    "    \"\"\"\n",
    "    df_train = df_train[(df_train['area']<=700) & (df_train['tradeMoney']<=30000)]\n",
    "#     df_train = df_train[df_train['tradeMoney']<=30000]\n",
    "    \n",
    "    return df_train, df_test"
   ]
  },
  {
   "cell_type": "code",
   "execution_count": 37,
   "metadata": {},
   "outputs": [],
   "source": [
    "def feature(df):\n",
    "    \"\"\"\n",
    "    特征\n",
    "    \"\"\"\n",
    "    # 将houseType转化为‘房间数room’，‘厅数parlor’，‘卫生间数bathroom’\n",
    "    def parseRoom(info, index):\n",
    "        res = int(info[index*2])\n",
    "        return res\n",
    "    room='_roomNum'\n",
    "    bathroom='_bathroomNum'\n",
    "    parlor='_parlorNum'\n",
    "    df.insert(3,room,None)\n",
    "    df.insert(4, parlor, None)\n",
    "    df.insert(5, bathroom, None)\n",
    "    df[room] = df['houseType'].apply(parseRoom, index=0)\n",
    "    df[parlor] = df['houseType'].apply(parseRoom, index=1)\n",
    "    df[bathroom] = df['houseType'].apply(parseRoom, index=2)\n",
    "    df.drop('houseType', axis=1, inplace=True)\n",
    "    \n",
    "    # 房间总数\n",
    "    df['_roomsNum'] = df[room] + df[parlor] + df[bathroom]\n",
    "    \n",
    "#     交易月份 eg:2018/10/25\n",
    "    df['_tradeMonth'] = df['tradeTime'].apply(lambda x: int(x.split('/')[1]))\n",
    "    df.drop('tradeTime', axis=1, inplace=True)\n",
    "    \n",
    "    df['_trafficStationNums'] = df['subwayStationNum'] + df['busStationNum']\n",
    "    df['_schoolNums'] = df['interSchoolNum'] + df['schoolNum'] + df['privateSchoolNum']\n",
    "    df['_lifeHouseNums'] = df['gymNum'] + df['parkNum'] + df['bankNum'] + df['shopNum'] + df['mallNum'] + df['superMarketNum']\n",
    "    \n",
    "    \n",
    "    categorical_feats = ['rentType', 'houseFloor', 'houseToward', 'houseDecoration', 'region', 'plate']\n",
    "    return df, categorical_feats"
   ]
  },
  {
   "cell_type": "code",
   "execution_count": 38,
   "metadata": {},
   "outputs": [],
   "source": [
    "def getData():\n",
    "    \"\"\"\n",
    "    获取数据\n",
    "    \"\"\"\n",
    "    train = pd.read_csv('dataset/train_data.csv')\n",
    "    test = pd.read_csv('dataset/test_a.csv')\n",
    "    \n",
    "    train, test = washData(train, test)\n",
    "    train = parseData(train)\n",
    "    test = parseData(test)\n",
    "   \n",
    "    train, col = feature(train)\n",
    "    test, col = feature(test)\n",
    "    \n",
    "    target = train.pop('tradeMoney')\n",
    "    features = train.columns\n",
    "    categorical_feats = col\n",
    "    \n",
    "    return train, test, target, features, categorical_feats"
   ]
  },
  {
   "cell_type": "code",
   "execution_count": 39,
   "metadata": {},
   "outputs": [],
   "source": [
    "def getInitData():\n",
    "    \"\"\"\n",
    "    获取原始数据\n",
    "    \"\"\"\n",
    "    train = pd.read_csv('dataset/train_data.csv')\n",
    "    test = pd.read_csv('dataset/test_a.csv')\n",
    "    return train, test"
   ]
  },
  {
   "cell_type": "code",
   "execution_count": 40,
   "metadata": {},
   "outputs": [],
   "source": [
    "# 原始数据分析\n",
    "itrain, itest = getInitData()"
   ]
  },
  {
   "cell_type": "code",
   "execution_count": 41,
   "metadata": {},
   "outputs": [
    {
     "data": {
      "text/plain": [
       "0    2018/10/25\n",
       "Name: tradeTime, dtype: object"
      ]
     },
     "execution_count": 41,
     "metadata": {},
     "output_type": "execute_result"
    }
   ],
   "source": [
    "itest['tradeTime'].head(1)"
   ]
  },
  {
   "cell_type": "code",
   "execution_count": 42,
   "metadata": {},
   "outputs": [
    {
     "name": "stderr",
     "output_type": "stream",
     "text": [
      "D:\\software\\anaconda3\\lib\\site-packages\\ipykernel_launcher.py:6: SettingWithCopyWarning: \n",
      "A value is trying to be set on a copy of a slice from a DataFrame\n",
      "\n",
      "See the caveats in the documentation: http://pandas.pydata.org/pandas-docs/stable/indexing.html#indexing-view-versus-copy\n",
      "  \n"
     ]
    }
   ],
   "source": [
    "# 之后为清洗后数据\n",
    "train, test, target, features, categorical_feats = getData()"
   ]
  },
  {
   "cell_type": "code",
   "execution_count": 43,
   "metadata": {},
   "outputs": [
    {
     "data": {
      "text/plain": [
       "Index(['area', 'rentType', '_roomNum', '_parlorNum', '_bathroomNum',\n",
       "       'houseFloor', 'totalFloor', 'houseToward', 'houseDecoration',\n",
       "       'communityName', 'region', 'plate', 'buildYear', 'saleSecHouseNum',\n",
       "       'subwayStationNum', 'busStationNum', 'interSchoolNum', 'schoolNum',\n",
       "       'privateSchoolNum', 'hospitalNum', 'drugStoreNum', 'gymNum', 'bankNum',\n",
       "       'shopNum', 'parkNum', 'mallNum', 'superMarketNum', 'totalTradeMoney',\n",
       "       'totalTradeArea', 'tradeMeanPrice', 'tradeSecNum', 'totalNewTradeMoney',\n",
       "       'totalNewTradeArea', 'tradeNewMeanPrice', 'tradeNewNum', 'remainNewNum',\n",
       "       'supplyNewNum', 'supplyLandNum', 'supplyLandArea', 'tradeLandNum',\n",
       "       'tradeLandArea', 'landTotalPrice', 'landMeanPrice', 'totalWorkers',\n",
       "       'newWorkers', 'residentPopulation', 'pv', 'uv', 'lookNum', '_roomsNum',\n",
       "       '_tradeMonth', '_trafficStationNums', '_schoolNums', '_lifeHouseNums'],\n",
       "      dtype='object')"
      ]
     },
     "execution_count": 43,
     "metadata": {},
     "output_type": "execute_result"
    }
   ],
   "source": [
    "features"
   ]
  },
  {
   "cell_type": "markdown",
   "metadata": {},
   "source": [
    "# 特征选择 待更新"
   ]
  },
  {
   "cell_type": "code",
   "execution_count": 44,
   "metadata": {},
   "outputs": [],
   "source": [
    "# SlectKBest:只保留k个最高得分的特征\n",
    "# SelectPercentile:只保留用户指定前百分之多少的特征\n",
    "# SelectFpr(假正率)/SelectFdr(错误发现率)/SelectFwe(误差率判断族):对每个特征应用常见的单变量统计检验\n",
    "# GenericUnivariateSelect:具有可配置策略的单变量特征选择.利用超参数搜索策略,该方法可获得最优的单变量选择策略\n",
    "# 以上几种特征选择器的输入是评分函数,输出是单变量得分和p-值(SelectKBest和SelectPercentile只返回单变量得分)\n",
    "from sklearn.feature_selection import SelectKBest\n",
    "# 回归问题:f_regression,mutual_info_regression \n",
    "from sklearn.feature_selection import f_regression"
   ]
  },
  {
   "cell_type": "code",
   "execution_count": 45,
   "metadata": {
    "scrolled": true
   },
   "outputs": [
    {
     "name": "stdout",
     "output_type": "stream",
     "text": [
      "<class 'pandas.core.frame.DataFrame'>\n",
      "Int64Index: 41271 entries, 0 to 41439\n",
      "Data columns (total 54 columns):\n",
      "area                   41271 non-null float64\n",
      "rentType               41271 non-null category\n",
      "_roomNum               41271 non-null int64\n",
      "_parlorNum             41271 non-null int64\n",
      "_bathroomNum           41271 non-null int64\n",
      "houseFloor             41271 non-null category\n",
      "totalFloor             41271 non-null int64\n",
      "houseToward            41271 non-null category\n",
      "houseDecoration        41271 non-null category\n",
      "communityName          41271 non-null category\n",
      "region                 41271 non-null category\n",
      "plate                  41271 non-null category\n",
      "buildYear              41271 non-null int32\n",
      "saleSecHouseNum        41271 non-null int64\n",
      "subwayStationNum       41271 non-null int64\n",
      "busStationNum          41271 non-null int64\n",
      "interSchoolNum         41271 non-null int64\n",
      "schoolNum              41271 non-null int64\n",
      "privateSchoolNum       41271 non-null int64\n",
      "hospitalNum            41271 non-null int64\n",
      "drugStoreNum           41271 non-null int64\n",
      "gymNum                 41271 non-null int64\n",
      "bankNum                41271 non-null int64\n",
      "shopNum                41271 non-null int64\n",
      "parkNum                41271 non-null int64\n",
      "mallNum                41271 non-null int64\n",
      "superMarketNum         41271 non-null int64\n",
      "totalTradeMoney        41271 non-null int64\n",
      "totalTradeArea         41271 non-null float64\n",
      "tradeMeanPrice         41271 non-null float64\n",
      "tradeSecNum            41271 non-null int64\n",
      "totalNewTradeMoney     41271 non-null int64\n",
      "totalNewTradeArea      41271 non-null int64\n",
      "tradeNewMeanPrice      41271 non-null float64\n",
      "tradeNewNum            41271 non-null int64\n",
      "remainNewNum           41271 non-null int64\n",
      "supplyNewNum           41271 non-null int64\n",
      "supplyLandNum          41271 non-null int64\n",
      "supplyLandArea         41271 non-null float64\n",
      "tradeLandNum           41271 non-null int64\n",
      "tradeLandArea          41271 non-null float64\n",
      "landTotalPrice         41271 non-null int64\n",
      "landMeanPrice          41271 non-null float64\n",
      "totalWorkers           41271 non-null int64\n",
      "newWorkers             41271 non-null int64\n",
      "residentPopulation     41271 non-null int64\n",
      "pv                     41271 non-null float64\n",
      "uv                     41271 non-null float64\n",
      "lookNum                41271 non-null int64\n",
      "_roomsNum              41271 non-null int64\n",
      "_tradeMonth            41271 non-null int64\n",
      "_trafficStationNums    41271 non-null int64\n",
      "_schoolNums            41271 non-null int64\n",
      "_lifeHouseNums         41271 non-null int64\n",
      "dtypes: category(7), float64(9), int32(1), int64(37)\n",
      "memory usage: 15.5 MB\n"
     ]
    }
   ],
   "source": [
    "train.info()"
   ]
  },
  {
   "cell_type": "code",
   "execution_count": 46,
   "metadata": {
    "scrolled": true
   },
   "outputs": [
    {
     "name": "stdout",
     "output_type": "stream",
     "text": [
      "Index(['area', 'rentType', '_roomNum', '_parlorNum', '_bathroomNum',\n",
      "       'houseFloor', 'totalFloor', 'houseToward', 'houseDecoration',\n",
      "       'communityName', 'region', 'plate', 'buildYear', 'saleSecHouseNum',\n",
      "       'subwayStationNum', 'busStationNum', 'interSchoolNum', 'schoolNum',\n",
      "       'privateSchoolNum', 'hospitalNum', 'drugStoreNum', 'gymNum', 'bankNum',\n",
      "       'shopNum', 'parkNum', 'mallNum', 'superMarketNum', 'totalTradeMoney',\n",
      "       'totalTradeArea', 'tradeMeanPrice', 'tradeSecNum', 'totalNewTradeMoney',\n",
      "       'totalNewTradeArea', 'tradeNewMeanPrice', 'tradeNewNum', 'remainNewNum',\n",
      "       'supplyNewNum', 'supplyLandNum', 'supplyLandArea', 'tradeLandNum',\n",
      "       'tradeLandArea', 'landTotalPrice', 'landMeanPrice', 'totalWorkers',\n",
      "       'newWorkers', 'residentPopulation', 'pv', 'uv', 'lookNum', '_roomsNum',\n",
      "       '_tradeMonth', '_trafficStationNums', '_schoolNums', '_lifeHouseNums'],\n",
      "      dtype='object')\n"
     ]
    },
    {
     "data": {
      "text/plain": [
       "['area',\n",
       " '_roomNum',\n",
       " '_parlorNum',\n",
       " '_bathroomNum',\n",
       " 'totalFloor',\n",
       " 'buildYear',\n",
       " 'saleSecHouseNum',\n",
       " 'subwayStationNum',\n",
       " 'busStationNum',\n",
       " 'interSchoolNum',\n",
       " 'schoolNum',\n",
       " 'privateSchoolNum',\n",
       " 'hospitalNum',\n",
       " 'drugStoreNum',\n",
       " 'gymNum',\n",
       " 'bankNum',\n",
       " 'shopNum',\n",
       " 'parkNum',\n",
       " 'mallNum',\n",
       " 'superMarketNum',\n",
       " 'totalTradeMoney',\n",
       " 'totalTradeArea',\n",
       " 'tradeMeanPrice',\n",
       " 'tradeSecNum',\n",
       " 'totalNewTradeMoney',\n",
       " 'totalNewTradeArea',\n",
       " 'tradeNewMeanPrice',\n",
       " 'tradeNewNum',\n",
       " 'remainNewNum',\n",
       " 'supplyNewNum',\n",
       " 'supplyLandNum',\n",
       " 'supplyLandArea',\n",
       " 'tradeLandNum',\n",
       " 'tradeLandArea',\n",
       " 'landTotalPrice',\n",
       " 'landMeanPrice',\n",
       " 'totalWorkers',\n",
       " 'newWorkers',\n",
       " 'residentPopulation',\n",
       " 'pv',\n",
       " 'uv',\n",
       " 'lookNum',\n",
       " '_roomsNum',\n",
       " '_tradeMonth',\n",
       " '_trafficStationNums',\n",
       " '_schoolNums',\n",
       " '_lifeHouseNums']"
      ]
     },
     "execution_count": 46,
     "metadata": {},
     "output_type": "execute_result"
    }
   ],
   "source": [
    "# 数值特征\n",
    "print(train.columns)\n",
    "num_features=list()\n",
    "for i in features:\n",
    "    if train[i].dtype in ['int64','float64','int32']:\n",
    "        num_features.append(i)\n",
    "num_features"
   ]
  },
  {
   "cell_type": "code",
   "execution_count": 49,
   "metadata": {},
   "outputs": [
    {
     "name": "stdout",
     "output_type": "stream",
     "text": [
      "(41271, 47)\n",
      "(41271, 20)\n"
     ]
    }
   ],
   "source": [
    "X, y = train[num_features], target\n",
    "print(X.shape)\n",
    "X_new = SelectKBest(f_regression, k=20).fit_transform(X, y)\n",
    "print(X_new.shape)"
   ]
  },
  {
   "cell_type": "code",
   "execution_count": 51,
   "metadata": {},
   "outputs": [
    {
     "name": "stdout",
     "output_type": "stream",
     "text": [
      "47\n"
     ]
    },
    {
     "data": {
      "text/plain": [
       "array([[ 68.06,   2.  ,   1.  , ...,  11.  ,  43.  , 137.  ],\n",
       "       [125.55,   3.  ,   2.  , ...,  12.  , 186.  , 245.  ],\n",
       "       [132.  ,   3.  ,   2.  , ...,  12.  ,  66.  , 197.  ],\n",
       "       ...,\n",
       "       [  9.2 ,   4.  ,   1.  , ...,   2.  , 162.  , 402.  ],\n",
       "       [ 14.1 ,   4.  ,   1.  , ...,   3.  , 162.  , 402.  ],\n",
       "       [ 33.5 ,   1.  ,   1.  , ...,  10.  , 120.  , 513.  ]])"
      ]
     },
     "execution_count": 51,
     "metadata": {},
     "output_type": "execute_result"
    }
   ],
   "source": [
    "print(len(num_features))\n",
    "X_new"
   ]
  },
  {
   "cell_type": "code",
   "execution_count": 53,
   "metadata": {},
   "outputs": [
    {
     "ename": "AttributeError",
     "evalue": "'numpy.ndarray' object has no attribute 'index'",
     "output_type": "error",
     "traceback": [
      "\u001b[1;31m---------------------------------------------------------------------------\u001b[0m",
      "\u001b[1;31mAttributeError\u001b[0m                            Traceback (most recent call last)",
      "\u001b[1;32m<ipython-input-53-7431a5afedc4>\u001b[0m in \u001b[0;36m<module>\u001b[1;34m\u001b[0m\n\u001b[1;32m----> 1\u001b[1;33m \u001b[0mX_new\u001b[0m\u001b[1;33m.\u001b[0m\u001b[0mindex\u001b[0m\u001b[1;33m\u001b[0m\u001b[1;33m\u001b[0m\u001b[0m\n\u001b[0m",
      "\u001b[1;31mAttributeError\u001b[0m: 'numpy.ndarray' object has no attribute 'index'"
     ]
    }
   ],
   "source": [
    "X_new"
   ]
  },
  {
   "cell_type": "markdown",
   "metadata": {},
   "source": [
    "# 训练"
   ]
  },
  {
   "cell_type": "code",
   "execution_count": 15,
   "metadata": {},
   "outputs": [
    {
     "data": {
      "text/plain": [
       "['rentType', 'houseFloor', 'houseToward', 'houseDecoration', 'region', 'plate']"
      ]
     },
     "execution_count": 15,
     "metadata": {},
     "output_type": "execute_result"
    }
   ],
   "source": [
    "categorical_feats"
   ]
  },
  {
   "cell_type": "code",
   "execution_count": 16,
   "metadata": {},
   "outputs": [],
   "source": [
    "params = {\n",
    "    'num_leaves': 31,\n",
    "    'min_data_in_leaf': 20,\n",
    "    'min_child_samples':20,\n",
    "    'objective': 'regression',\n",
    "    'learning_rate': 0.01,\n",
    "    \"boosting\": \"gbdt\",\n",
    "    \"feature_fraction\": 0.8,\n",
    "    \"bagging_freq\": 1,\n",
    "    \"bagging_fraction\": 0.85,\n",
    "    \"bagging_seed\": 23,\n",
    "    \"metric\": 'rmse',\n",
    "    \"lambda_l1\": 0.2,\n",
    "    \"nthread\": 4,\n",
    "}"
   ]
  },
  {
   "cell_type": "code",
   "execution_count": 23,
   "metadata": {
    "scrolled": true
   },
   "outputs": [
    {
     "name": "stdout",
     "output_type": "stream",
     "text": [
      "fold 0\n"
     ]
    },
    {
     "name": "stderr",
     "output_type": "stream",
     "text": [
      "D:\\software\\anaconda3\\lib\\site-packages\\lightgbm\\basic.py:1205: UserWarning: Using categorical_feature in Dataset.\n",
      "  warnings.warn('Using categorical_feature in Dataset.')\n",
      "D:\\software\\anaconda3\\lib\\site-packages\\lightgbm\\basic.py:762: UserWarning: categorical_feature in param dict is overridden.\n",
      "  warnings.warn('categorical_feature in param dict is overridden.')\n"
     ]
    },
    {
     "name": "stdout",
     "output_type": "stream",
     "text": [
      "Training until validation scores don't improve for 200 rounds.\n",
      "[500]\ttraining's rmse: 969.759\tvalid_1's rmse: 1052.72\n",
      "[1000]\ttraining's rmse: 856.6\tvalid_1's rmse: 1013.86\n",
      "[1500]\ttraining's rmse: 790.616\tvalid_1's rmse: 1001.26\n",
      "[2000]\ttraining's rmse: 744.57\tvalid_1's rmse: 997.872\n",
      "[2500]\ttraining's rmse: 707.525\tvalid_1's rmse: 994.862\n",
      "[3000]\ttraining's rmse: 677.853\tvalid_1's rmse: 993.911\n",
      "[3500]\ttraining's rmse: 653.329\tvalid_1's rmse: 992.89\n",
      "Early stopping, best iteration is:\n",
      "[3737]\ttraining's rmse: 642.549\tvalid_1's rmse: 992.391\n",
      "fold 1\n"
     ]
    },
    {
     "name": "stderr",
     "output_type": "stream",
     "text": [
      "D:\\software\\anaconda3\\lib\\site-packages\\lightgbm\\basic.py:1205: UserWarning: Using categorical_feature in Dataset.\n",
      "  warnings.warn('Using categorical_feature in Dataset.')\n",
      "D:\\software\\anaconda3\\lib\\site-packages\\lightgbm\\basic.py:762: UserWarning: categorical_feature in param dict is overridden.\n",
      "  warnings.warn('categorical_feature in param dict is overridden.')\n"
     ]
    },
    {
     "name": "stdout",
     "output_type": "stream",
     "text": [
      "Training until validation scores don't improve for 200 rounds.\n",
      "[500]\ttraining's rmse: 948.603\tvalid_1's rmse: 1143.16\n",
      "[1000]\ttraining's rmse: 837.74\tvalid_1's rmse: 1116.64\n",
      "[1500]\ttraining's rmse: 777.377\tvalid_1's rmse: 1110.68\n",
      "[2000]\ttraining's rmse: 734.363\tvalid_1's rmse: 1107.58\n",
      "[2500]\ttraining's rmse: 699.817\tvalid_1's rmse: 1105.54\n",
      "Early stopping, best iteration is:\n",
      "[2560]\ttraining's rmse: 696.106\tvalid_1's rmse: 1105.12\n",
      "fold 2\n"
     ]
    },
    {
     "name": "stderr",
     "output_type": "stream",
     "text": [
      "D:\\software\\anaconda3\\lib\\site-packages\\lightgbm\\basic.py:1205: UserWarning: Using categorical_feature in Dataset.\n",
      "  warnings.warn('Using categorical_feature in Dataset.')\n",
      "D:\\software\\anaconda3\\lib\\site-packages\\lightgbm\\basic.py:762: UserWarning: categorical_feature in param dict is overridden.\n",
      "  warnings.warn('categorical_feature in param dict is overridden.')\n"
     ]
    },
    {
     "name": "stdout",
     "output_type": "stream",
     "text": [
      "Training until validation scores don't improve for 200 rounds.\n",
      "[500]\ttraining's rmse: 952.613\tvalid_1's rmse: 1151.09\n",
      "[1000]\ttraining's rmse: 842.355\tvalid_1's rmse: 1110.48\n",
      "[1500]\ttraining's rmse: 778.703\tvalid_1's rmse: 1100.73\n",
      "[2000]\ttraining's rmse: 732.095\tvalid_1's rmse: 1095.46\n",
      "[2500]\ttraining's rmse: 696.445\tvalid_1's rmse: 1094\n",
      "Early stopping, best iteration is:\n",
      "[2718]\ttraining's rmse: 683.098\tvalid_1's rmse: 1093.12\n",
      "fold 3\n"
     ]
    },
    {
     "name": "stderr",
     "output_type": "stream",
     "text": [
      "D:\\software\\anaconda3\\lib\\site-packages\\lightgbm\\basic.py:1205: UserWarning: Using categorical_feature in Dataset.\n",
      "  warnings.warn('Using categorical_feature in Dataset.')\n",
      "D:\\software\\anaconda3\\lib\\site-packages\\lightgbm\\basic.py:762: UserWarning: categorical_feature in param dict is overridden.\n",
      "  warnings.warn('categorical_feature in param dict is overridden.')\n"
     ]
    },
    {
     "name": "stdout",
     "output_type": "stream",
     "text": [
      "Training until validation scores don't improve for 200 rounds.\n",
      "[500]\ttraining's rmse: 958.366\tvalid_1's rmse: 1091.95\n",
      "[1000]\ttraining's rmse: 848.918\tvalid_1's rmse: 1059.66\n",
      "[1500]\ttraining's rmse: 786.258\tvalid_1's rmse: 1049.6\n",
      "[2000]\ttraining's rmse: 741.507\tvalid_1's rmse: 1045.38\n",
      "[2500]\ttraining's rmse: 706.67\tvalid_1's rmse: 1043.1\n",
      "Early stopping, best iteration is:\n",
      "[2724]\ttraining's rmse: 693.271\tvalid_1's rmse: 1042.02\n",
      "fold 4\n"
     ]
    },
    {
     "name": "stderr",
     "output_type": "stream",
     "text": [
      "D:\\software\\anaconda3\\lib\\site-packages\\lightgbm\\basic.py:1205: UserWarning: Using categorical_feature in Dataset.\n",
      "  warnings.warn('Using categorical_feature in Dataset.')\n",
      "D:\\software\\anaconda3\\lib\\site-packages\\lightgbm\\basic.py:762: UserWarning: categorical_feature in param dict is overridden.\n",
      "  warnings.warn('categorical_feature in param dict is overridden.')\n"
     ]
    },
    {
     "name": "stdout",
     "output_type": "stream",
     "text": [
      "Training until validation scores don't improve for 200 rounds.\n",
      "[500]\ttraining's rmse: 952.668\tvalid_1's rmse: 1122.28\n",
      "[1000]\ttraining's rmse: 843.967\tvalid_1's rmse: 1095.15\n",
      "[1500]\ttraining's rmse: 782.068\tvalid_1's rmse: 1085.57\n",
      "[2000]\ttraining's rmse: 738.401\tvalid_1's rmse: 1081.58\n",
      "[2500]\ttraining's rmse: 703.94\tvalid_1's rmse: 1079.26\n",
      "[3000]\ttraining's rmse: 675.652\tvalid_1's rmse: 1077.84\n",
      "[3500]\ttraining's rmse: 651.969\tvalid_1's rmse: 1076.51\n",
      "Early stopping, best iteration is:\n",
      "[3395]\ttraining's rmse: 656.688\tvalid_1's rmse: 1076.28\n",
      "CV Score: 0.90106 \n"
     ]
    }
   ],
   "source": [
    "folds = KFold(n_splits=5, shuffle=True, random_state=2333)\n",
    "\n",
    "oof_lgb = np.zeros(len(train))\n",
    "predictions_lgb = np.zeros(len(test))\n",
    "feature_importance_df = pd.DataFrame()\n",
    "\n",
    "for fold_, (trn_idx, val_idx) in enumerate(folds.split(train.values, target.values)):\n",
    "    print(\"fold {}\".format(fold_))\n",
    "    trn_data = lgb.Dataset(train.iloc[trn_idx], label=target.iloc[trn_idx], categorical_feature=categorical_feats)\n",
    "    val_data = lgb.Dataset(train.iloc[val_idx], label=target.iloc[val_idx], categorical_feature=categorical_feats)\n",
    "\n",
    "    num_round = 10000\n",
    "    clf = lgb.train(params, trn_data, num_round, valid_sets = [trn_data, val_data], verbose_eval=500, early_stopping_rounds = 200)\n",
    "    \n",
    "    oof_lgb[val_idx] = clf.predict(train.iloc[val_idx], num_iteration=clf.best_iteration)\n",
    "    \n",
    "    fold_importance_df = pd.DataFrame()\n",
    "    fold_importance_df[\"feature\"] = features\n",
    "    fold_importance_df[\"importance\"] = clf.feature_importance()\n",
    "    fold_importance_df[\"fold\"] = fold_ + 1\n",
    "    feature_importance_df = pd.concat([feature_importance_df, fold_importance_df], axis=0)\n",
    "    \n",
    "    predictions_lgb += clf.predict(test, num_iteration=clf.best_iteration) / folds.n_splits\n",
    "    \n",
    "print(\"CV Score: {:<8.5f}\".format(r2_score(target, oof_lgb)))"
   ]
  },
  {
   "cell_type": "markdown",
   "metadata": {},
   "source": [
    "# 特征贡献值"
   ]
  },
  {
   "cell_type": "code",
   "execution_count": 25,
   "metadata": {},
   "outputs": [
    {
     "name": "stderr",
     "output_type": "stream",
     "text": [
      "D:\\software\\anaconda3\\lib\\site-packages\\scipy\\stats\\stats.py:1713: FutureWarning: Using a non-tuple sequence for multidimensional indexing is deprecated; use `arr[tuple(seq)]` instead of `arr[seq]`. In the future this will be interpreted as an array index, `arr[np.array(seq)]`, which will result either in an error or a different result.\n",
      "  return np.add.reduce(sorted[indexer] * weights, axis=axis) / sumval\n"
     ]
    },
    {
     "data": {
      "image/png": "[encoded data removed]",
      "text/plain": [
       "<Figure size 1008x2880 with 1 Axes>"
      ]
     },
     "metadata": {
      "needs_background": "light"
     },
     "output_type": "display_data"
    }
   ],
   "source": [
    "cols = (feature_importance_df[[\"feature\", \"importance\"]]\n",
    "        .groupby(\"feature\")\n",
    "        .mean()\n",
    "        .sort_values(by=\"importance\", ascending=False)[:1000].index)\n",
    "\n",
    "best_features = feature_importance_df.loc[feature_importance_df.feature.isin(cols)]\n",
    "\n",
    "plt.figure(figsize=(14,40))\n",
    "sns.barplot(x=\"importance\",\n",
    "            y=\"feature\",\n",
    "            data=best_features.sort_values(by=\"importance\",\n",
    "                                           ascending=False))\n",
    "plt.title('LightGBM Features (avg over folds)')\n",
    "plt.tight_layout()"
   ]
  },
  {
   "cell_type": "markdown",
   "metadata": {},
   "source": [
    "# 生成提交数据"
   ]
  },
  {
   "cell_type": "code",
   "execution_count": 24,
   "metadata": {},
   "outputs": [],
   "source": [
    "pd.DataFrame(predictions_lgb).apply(round).to_csv('submit.csv',na_rep='\\n',index=False,encoding='utf8',header=False)"
   ]
  }
 ],
 "metadata": {
  "kernelspec": {
   "display_name": "Python 3",
   "language": "python",
   "name": "python3"
  },
  "language_info": {
   "codemirror_mode": {
    "name": "ipython",
    "version": 3
   },
   "file_extension": ".py",
   "mimetype": "text/x-python",
   "name": "python",
   "nbconvert_exporter": "python",
   "pygments_lexer": "ipython3",
   "version": "3.7.1"
  }
 },
 "nbformat": 4,
 "nbformat_minor": 2
}
